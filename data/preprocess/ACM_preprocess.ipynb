{
 "cells": [
  {
   "cell_type": "code",
   "execution_count": 32,
   "outputs": [],
   "source": [
    "import scipy.io as sio\n",
    "import numpy as np\n",
    "from scipy.sparse import csr_matrix"
   ],
   "metadata": {
    "collapsed": false,
    "pycharm": {
     "name": "#%%\n"
    }
   }
  },
  {
   "cell_type": "code",
   "execution_count": 33,
   "outputs": [],
   "source": [
    "ACM = sio.loadmat('../raw/ACM/ACM.mat')"
   ],
   "metadata": {
    "collapsed": false,
    "pycharm": {
     "name": "#%%\n"
    }
   }
  },
  {
   "cell_type": "code",
   "execution_count": 34,
   "outputs": [],
   "source": [
    "paper_conf = ACM['PvsC'].nonzero()[1]"
   ],
   "metadata": {
    "collapsed": false,
    "pycharm": {
     "name": "#%%\n"
    }
   }
  },
  {
   "cell_type": "code",
   "execution_count": 35,
   "outputs": [],
   "source": [
    "# DataBase\n",
    "paper_db = np.isin(paper_conf,[1,13])  #SIGMOD、VLDB\n",
    "paper_db_idx = np.where(paper_db == True)[0]\n",
    "# Data Mining\n",
    "paper_dm = np.isin(paper_conf,[0]) #KDD\n",
    "paper_dm_idx = np.where(paper_dm == True)[0]\n",
    "# Wireless Communicatsion\n",
    "paper_wc = np.isin(paper_conf,[9,10]) #SIGCOMM、MobiCOMM\n",
    "paper_wc_idx = np.where(paper_wc == True)[0]"
   ],
   "metadata": {
    "collapsed": false,
    "pycharm": {
     "name": "#%%\n"
    }
   }
  },
  {
   "cell_type": "code",
   "execution_count": 36,
   "outputs": [],
   "source": [
    "paper_idx = np.sort(list(paper_db_idx)+list(paper_dm_idx)+list(paper_wc_idx))"
   ],
   "metadata": {
    "collapsed": false,
    "pycharm": {
     "name": "#%%\n"
    }
   }
  },
  {
   "cell_type": "code",
   "execution_count": 37,
   "outputs": [],
   "source": [
    "# 0 : database, 1: wireless communicatsion, 2: data mining\n",
    "paper_target = []\n",
    "for idx in paper_idx:\n",
    "    if idx in paper_db_idx:\n",
    "        paper_target.append(0)\n",
    "    elif idx in paper_wc_idx:\n",
    "        paper_target.append(1)\n",
    "    else:\n",
    "        paper_target.append(2)\n",
    "paper_target = np.array(paper_target)"
   ],
   "metadata": {
    "collapsed": false,
    "pycharm": {
     "name": "#%%\n"
    }
   }
  },
  {
   "cell_type": "markdown",
   "source": [
    "## Edges and Features"
   ],
   "metadata": {
    "collapsed": false
   }
  },
  {
   "cell_type": "code",
   "execution_count": 38,
   "outputs": [],
   "source": [
    "authorslen = ACM['PvsA'][paper_idx].nonzero()[1]\n",
    "author_dic = dict()\n",
    "all_authors = list()\n",
    "for author in authorslen:\n",
    "    if author not in author_dic:\n",
    "        author_dic[author] = len(author_dic) + len(paper_idx)\n",
    "    all_authors.append(author_dic[author])\n",
    "all_authors = np.array(all_authors)"
   ],
   "metadata": {
    "collapsed": false,
    "pycharm": {
     "name": "#%%\n"
    }
   }
  },
  {
   "cell_type": "code",
   "execution_count": 39,
   "outputs": [],
   "source": [
    "subjectslen = ACM['PvsL'][paper_idx].nonzero()[1]\n",
    "subject_dic = dict()\n",
    "all_subjects = list()\n",
    "for subject in subjectslen:\n",
    "    if subject not in subject_dic:\n",
    "        subject_dic[subject] = len(subject_dic) + len(paper_idx) + len(author_dic)\n",
    "    all_subjects.append(subject_dic[subject])\n",
    "all_subjects = np.array(all_subjects)"
   ],
   "metadata": {
    "collapsed": false,
    "pycharm": {
     "name": "#%%\n"
    }
   }
  },
  {
   "cell_type": "code",
   "execution_count": 40,
   "outputs": [],
   "source": [
    "termslen = ACM['PvsT'][paper_idx].nonzero()[1]\n",
    "term_dic = dict()\n",
    "all_items = list()\n",
    "for term in termslen:\n",
    "    if term not in term_dic:\n",
    "        term_dic[term] = len(term_dic) + len(paper_idx) + len(author_dic) + len(subject_dic)\n",
    "    all_items.append(term_dic[term])\n",
    "all_items = np.array(all_items)"
   ],
   "metadata": {
    "collapsed": false,
    "pycharm": {
     "name": "#%%\n"
    }
   }
  },
  {
   "cell_type": "code",
   "execution_count": 41,
   "outputs": [],
   "source": [
    "num_node = len(paper_idx) + len(author_dic) + len(subject_dic) + len(term_dic)\n",
    "\n",
    "papers = ACM['PvsA'][paper_idx].nonzero()[0]\n",
    "data = np.ones_like(papers)\n",
    "A_pa = csr_matrix((data, (papers, all_authors)), shape=(num_node,num_node))\n",
    "\n",
    "papers = ACM['PvsL'][paper_idx].nonzero()[0]\n",
    "data = np.ones_like(papers)\n",
    "A_ps = csr_matrix((data, (papers, all_subjects)), shape=(num_node,num_node))\n",
    "\n",
    "papers = ACM['PvsT'][paper_idx].nonzero()[0]\n",
    "data = np.ones_like(papers)\n",
    "A_pt = csr_matrix((data, (papers, all_items)), shape=(num_node,num_node))\n",
    "\n",
    "A_ap = A_pa.transpose()\n",
    "A_sp = A_ps.transpose()"
   ],
   "metadata": {
    "collapsed": false,
    "pycharm": {
     "name": "#%%\n"
    }
   }
  },
  {
   "cell_type": "code",
   "execution_count": 42,
   "outputs": [],
   "source": [
    "# >0 only once appear\n",
    "paper_feat = np.array(A_pt[:len(paper_idx),-len(term_dic):].toarray()>0, dtype=np.int)\n",
    "author_feat = np.array(A_pa.transpose().dot(A_pt)[len(paper_idx):len(paper_idx)+len(author_dic),-len(term_dic):].toarray()>0, dtype=np.int)\n",
    "subject_feat = np.array(A_ps.transpose().dot(A_pt)[len(paper_idx)+len(author_dic):len(paper_idx)+len(author_dic)+len(subject_dic),-len(term_dic):].toarray()>0, dtype=np.int)\n"
   ],
   "metadata": {
    "collapsed": false,
    "pycharm": {
     "name": "#%%\n"
    }
   }
  },
  {
   "cell_type": "code",
   "execution_count": 43,
   "outputs": [],
   "source": [
    "# Paper 的 Train, Valid 划分\n",
    "np.random.seed(20210521)\n",
    "train_valid_paper_DB = list(np.random.choice(np.where(paper_target==0)[0],300, replace=False))\n",
    "train_valid_paper_WC = list(np.random.choice(np.where(paper_target==1)[0],300, replace=False))\n",
    "train_valid_paper_DM = list(np.random.choice(np.where(paper_target==2)[0],300, replace=False))\n",
    "\n",
    "train_paper_idx = np.array(train_valid_paper_DB[:150] + train_valid_paper_WC[:150] + train_valid_paper_DM[:150])\n",
    "train_paper_idx.sort()\n",
    "\n",
    "valid_paper_idx = np.array(train_valid_paper_DB[150:] + train_valid_paper_WC[150:] + train_valid_paper_DM[150:])\n",
    "valid_paper_idx.sort()\n",
    "\n",
    "test_paper_idx = np.array(list((set(np.arange(paper_target.shape[0])) - set(train_paper_idx)) - set(valid_paper_idx)))\n",
    "test_paper_idx.sort()"
   ],
   "metadata": {
    "collapsed": false,
    "pycharm": {
     "name": "#%%\n"
    }
   }
  },
  {
   "cell_type": "code",
   "execution_count": 44,
   "outputs": [],
   "source": [
    "from sklearn.preprocessing import OneHotEncoder"
   ],
   "metadata": {
    "collapsed": false,
    "pycharm": {
     "name": "#%%\n"
    }
   }
  },
  {
   "cell_type": "code",
   "execution_count": 45,
   "outputs": [],
   "source": [
    "onehot_encoder = OneHotEncoder()\n",
    "onehot_paper_label = onehot_encoder.fit_transform(paper_target.reshape(len(paper_target), 1))"
   ],
   "metadata": {
    "collapsed": false,
    "pycharm": {
     "name": "#%%\n"
    }
   }
  },
  {
   "cell_type": "code",
   "execution_count": 46,
   "outputs": [],
   "source": [
    "M_ap = A_ap[len(paper_idx):len(paper_idx)+len(author_dic), :len(paper_idx)]\n",
    "M_pa = A_pa[:len(paper_idx), len(paper_idx):len(paper_idx)+len(author_dic)]\n",
    "M_ps = A_ps[:len(paper_idx), len(paper_idx)+len(author_dic):len(paper_idx)+len(author_dic)+len(subject_dic)]"
   ],
   "metadata": {
    "collapsed": false,
    "pycharm": {
     "name": "#%%\n"
    }
   }
  },
  {
   "cell_type": "code",
   "execution_count": 31,
   "outputs": [],
   "source": [
    "M_pap = np.array(A_pa.dot(A_ap).toarray()>0, dtype=np.int)\n",
    "M_apa = np.array(A_ap.dot(A_pa).toarray()>0, dtype=np.int)"
   ],
   "metadata": {
    "collapsed": false,
    "pycharm": {
     "name": "#%%\n"
    }
   }
  },
  {
   "cell_type": "code",
   "execution_count": 29,
   "outputs": [],
   "source": [
    "M_sps = np.array(A_sp.dot(A_ps).toarray()>0, dtype=np.int)\n",
    "M_psp = np.array(A_ps.dot(A_sp).toarray()>0, dtype=np.int)"
   ],
   "metadata": {
    "collapsed": false,
    "pycharm": {
     "name": "#%%\n"
    }
   }
  },
  {
   "cell_type": "code",
   "execution_count": null,
   "outputs": [],
   "source": [
    "train_paper_idx = train_paper_idx.astype(np.int)\n",
    "valid_paper_idx = valid_paper_idx.astype(np.int)\n",
    "test_paper_idx = test_paper_idx.astype(np.int)\n",
    "onehot_paper_label = onehot_paper_label.astype(np.int)"
   ],
   "metadata": {
    "collapsed": false,
    "pycharm": {
     "name": "#%%\n"
    }
   }
  },
  {
   "cell_type": "code",
   "execution_count": 18,
   "outputs": [],
   "source": [
    "acm = dict()\n",
    "acm['paper_feature'] = csr_matrix(paper_feat)\n",
    "acm['author_feature'] = csr_matrix(author_feat)\n",
    "acm['subject_feature'] = csr_matrix(subject_feat)\n",
    "acm['PA'] = M_pa\n",
    "acm['PS'] = M_ps\n",
    "acm['PAP'] = csr_matrix(M_pap[:len(paper_idx), :len(paper_idx)])\n",
    "acm['APA'] = csr_matrix(M_apa[len(paper_idx):len(paper_idx)+len(author_dic), len(paper_idx):len(paper_idx)+len(author_dic)])\n",
    "acm['PSP'] = csr_matrix(M_psp[:len(paper_idx), :len(paper_idx)])\n",
    "acm['SPS'] = csr_matrix(M_sps[-len(subject_dic)-len(term_dic):-len(term_dic),-len(subject_dic)-len(term_dic):-len(term_dic)])\n",
    "acm['paper_label'] = onehot_paper_label\n",
    "acm['train_paper_idx'] = train_paper_idx\n",
    "acm['val_paper_idx'] = valid_paper_idx\n",
    "acm['test_paper_idx'] = test_paper_idx"
   ],
   "metadata": {
    "collapsed": false,
    "pycharm": {
     "name": "#%%\n"
    }
   }
  },
  {
   "cell_type": "code",
   "execution_count": 22,
   "outputs": [],
   "source": [
    "sio.savemat('new_acm.mat', acm)"
   ],
   "metadata": {
    "collapsed": false,
    "pycharm": {
     "name": "#%%\n"
    }
   }
  }
 ],
 "metadata": {
  "kernelspec": {
   "display_name": "Python 3",
   "language": "python",
   "name": "python3"
  },
  "language_info": {
   "codemirror_mode": {
    "name": "ipython",
    "version": 2
   },
   "file_extension": ".py",
   "mimetype": "text/x-python",
   "name": "python",
   "nbconvert_exporter": "python",
   "pygments_lexer": "ipython2",
   "version": "2.7.6"
  }
 },
 "nbformat": 4,
 "nbformat_minor": 0
}