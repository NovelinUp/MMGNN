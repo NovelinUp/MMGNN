{
 "cells": [
  {
   "cell_type": "code",
   "execution_count": 1,
   "metadata": {
    "collapsed": true
   },
   "outputs": [],
   "source": [
    "import numpy as np\n",
    "import pandas as pd\n",
    "import  scipy.io as sio\n",
    "import scipy.sparse as sp\n",
    "from scipy.sparse import csr_matrix\n",
    "from sklearn.feature_extraction.text import CountVectorizer"
   ]
  },
  {
   "cell_type": "code",
   "execution_count": 2,
   "outputs": [],
   "source": [
    "# load raw data, delete movies with no actor or director\n",
    "movies = pd.read_csv('../raw/IMDB/movie_metadata.csv', encoding='utf-8').dropna(\n",
    "    axis=0, subset=['actor_1_name', 'director_name']).reset_index(drop=True)"
   ],
   "metadata": {
    "collapsed": false,
    "pycharm": {
     "name": "#%%\n"
    }
   }
  },
  {
   "cell_type": "code",
   "execution_count": 3,
   "outputs": [],
   "source": [
    "# extract labels, and delete movies with unwanted genres\n",
    "# 0 for action, 1 for comedy, 2 for drama, -1 for others\n",
    "movie_label = np.zeros((len(movies)), dtype=int)\n",
    "for movie_idx, genres in movies['genres'].iteritems():\n",
    "    movie_label[movie_idx] = -1\n",
    "    genrelist = genres.split('|')\n",
    "    for genre in genres.split('|'):\n",
    "        types = ('Action' in genre) + ('Comedy' in genre) + ('Drama' in genre)\n",
    "        if types > 1: break\n",
    "        if genre == 'Action':\n",
    "            movie_label[movie_idx] = 0\n",
    "            break\n",
    "        elif genre == 'Comedy':\n",
    "            movie_label[movie_idx] = 1\n",
    "            break\n",
    "        elif genre == 'Drama':\n",
    "            movie_label[movie_idx] = 2\n",
    "            break\n",
    "unwanted_idx = np.where(movie_label == -1)[0]\n",
    "movies = movies.drop(unwanted_idx).reset_index(drop=True)\n",
    "movie_label = np.delete(movie_label, unwanted_idx, 0)"
   ],
   "metadata": {
    "collapsed": false,
    "pycharm": {
     "name": "#%%\n"
    }
   }
  },
  {
   "cell_type": "code",
   "execution_count": 4,
   "outputs": [],
   "source": [
    "# get director list and actor list\n",
    "directors = list(set(movies['director_name'].dropna()))\n",
    "directors.sort()\n",
    "actors = list(set(movies['actor_1_name'].dropna().to_list() +\n",
    "                  movies['actor_2_name'].dropna().to_list() +\n",
    "                  movies['actor_3_name'].dropna().to_list()))\n",
    "actors.sort()"
   ],
   "metadata": {
    "collapsed": false,
    "pycharm": {
     "name": "#%%\n"
    }
   }
  },
  {
   "cell_type": "code",
   "execution_count": 5,
   "outputs": [],
   "source": [
    "# build the adjacency matrix for the graph consisting of movies, directors and actors\n",
    "# 0 for movies, 1 for directors, 2 for actors\n",
    "dim = len(movies) + len(directors) + len(actors)\n",
    "type_mask = np.zeros((dim), dtype=int)\n",
    "type_mask[len(movies):len(movies)+len(directors)] = 1\n",
    "type_mask[len(movies)+len(directors):] = 2\n",
    "\n",
    "adjM = np.zeros((dim, dim), dtype=int)\n",
    "for movie_idx, row in movies.iterrows():\n",
    "    if row['director_name'] in directors:\n",
    "        director_idx = directors.index(row['director_name'])\n",
    "        adjM[movie_idx, len(movies) + director_idx] = 1\n",
    "        adjM[len(movies) + director_idx, movie_idx] = 1\n",
    "    if row['actor_1_name'] in actors:\n",
    "        actor_idx = actors.index(row['actor_1_name'])\n",
    "        adjM[movie_idx, len(movies) + len(directors) + actor_idx] = 1\n",
    "        adjM[len(movies) + len(directors) + actor_idx, movie_idx] = 1\n",
    "    if row['actor_2_name'] in actors:\n",
    "        actor_idx = actors.index(row['actor_2_name'])\n",
    "        adjM[movie_idx, len(movies) + len(directors) + actor_idx] = 1\n",
    "        adjM[len(movies) + len(directors) + actor_idx, movie_idx] = 1\n",
    "    if row['actor_3_name'] in actors:\n",
    "        actor_idx = actors.index(row['actor_3_name'])\n",
    "        adjM[movie_idx, len(movies) + len(directors) + actor_idx] = 1\n",
    "        adjM[len(movies) + len(directors) + actor_idx, movie_idx] = 1\n"
   ],
   "metadata": {
    "collapsed": false,
    "pycharm": {
     "name": "#%%\n"
    }
   }
  },
  {
   "cell_type": "code",
   "execution_count": 6,
   "outputs": [],
   "source": [
    "# extract bag-of-word representations of plot keywords for each movie\n",
    "# X is a sparse matrix\n",
    "vectorizer = CountVectorizer(min_df=2)\n",
    "movie_X = vectorizer.fit_transform(movies['plot_keywords'].fillna('').values)\n",
    "# assign features to directors and actors as the means of their associated movies' features\n",
    "adjM_da2m = adjM[len(movies):, :len(movies)]\n",
    "adjM_da2m_normalized = np.diag(1 / adjM_da2m.sum(axis=1)).dot(adjM_da2m)\n",
    "director_actor_X = csr_matrix(adjM_da2m_normalized).dot(movie_X)\n",
    "full_X = sp.vstack([movie_X, director_actor_X])"
   ],
   "metadata": {
    "collapsed": false,
    "pycharm": {
     "name": "#%%\n"
    }
   }
  },
  {
   "cell_type": "code",
   "execution_count": 7,
   "outputs": [],
   "source": [
    "movieslen = movies.shape[0]\n",
    "directorlen = len(directors)\n",
    "actorlen = len(actors)"
   ],
   "metadata": {
    "collapsed": false,
    "pycharm": {
     "name": "#%%\n"
    }
   }
  },
  {
   "cell_type": "code",
   "execution_count": 8,
   "outputs": [],
   "source": [
    "movie_feature = movie_X\n",
    "actor_feature = full_X[-actorlen:, ]\n",
    "director_feature = full_X[movieslen:movieslen+directorlen, :]"
   ],
   "metadata": {
    "collapsed": false,
    "pycharm": {
     "name": "#%%\n"
    }
   }
  },
  {
   "cell_type": "code",
   "execution_count": 9,
   "outputs": [],
   "source": [
    "M_D = csr_matrix(adjM[:movieslen, movieslen:movieslen+directorlen])\n",
    "M_A = csr_matrix(adjM[:movieslen, -actorlen:])\n",
    "D_M = csr_matrix(adjM[movieslen:movieslen+directorlen, :movieslen])\n",
    "A_M = csr_matrix(adjM[-actorlen:, :movieslen])"
   ],
   "metadata": {
    "collapsed": false,
    "pycharm": {
     "name": "#%%\n"
    }
   }
  },
  {
   "cell_type": "code",
   "execution_count": 10,
   "outputs": [],
   "source": [
    "MDM = M_D.dot(D_M)\n",
    "MAM = M_A.dot(A_M)\n",
    "AMA = A_M.dot(M_A)\n",
    "DMD = D_M.dot(M_D)"
   ],
   "metadata": {
    "collapsed": false,
    "pycharm": {
     "name": "#%%\n"
    }
   }
  },
  {
   "cell_type": "code",
   "execution_count": 11,
   "outputs": [],
   "source": [
    "# movie 的 Train, Valid  随机选择\n",
    "np.random.seed(20210521)\n",
    "train_valid_movie_ac = list(np.random.choice(np.where(movie_label==0)[0],300, replace=False))\n",
    "train_valid_movie_co = list(np.random.choice(np.where(movie_label==1)[0],300, replace=False))\n",
    "train_valid_movie_dr = list(np.random.choice(np.where(movie_label==2)[0],300, replace=False))\n",
    "\n",
    "train_movie_idx = np.array(train_valid_movie_ac[:150] + train_valid_movie_co[:150] + train_valid_movie_dr[:150])\n",
    "train_movie_idx.sort()\n",
    "train_movie_label = movie_label[train_movie_idx]\n",
    "\n",
    "valid_movie_idx = np.array(train_valid_movie_ac[150:] + train_valid_movie_co[150:] + train_valid_movie_dr[150:])\n",
    "valid_movie_idx.sort()\n",
    "valid_movie_label = movie_label[valid_movie_idx]\n",
    "\n",
    "test_movie_idx = np.array(list((set(np.arange(movie_label.shape[0])) - set(train_movie_idx)) - set(valid_movie_idx)))\n",
    "test_movie_idx.sort()\n",
    "test_movie_label = movie_label[test_movie_idx]"
   ],
   "metadata": {
    "collapsed": false,
    "pycharm": {
     "name": "#%%\n"
    }
   }
  },
  {
   "cell_type": "code",
   "execution_count": 12,
   "outputs": [],
   "source": [
    "from sklearn.preprocessing import OneHotEncoder"
   ],
   "metadata": {
    "collapsed": false,
    "pycharm": {
     "name": "#%%\n"
    }
   }
  },
  {
   "cell_type": "code",
   "execution_count": 15,
   "outputs": [],
   "source": [
    "onehot_encoder = OneHotEncoder()\n",
    "onehot_movie_label = onehot_encoder.fit_transform(movie_label.reshape(len(movie_label), 1))"
   ],
   "metadata": {
    "collapsed": false,
    "pycharm": {
     "name": "#%%\n"
    }
   }
  },
  {
   "cell_type": "code",
   "execution_count": 16,
   "outputs": [],
   "source": [
    "train_movie_idx = train_movie_idx.astype(np.int)\n",
    "valid_movie_idx = valid_movie_idx.astype(np.int)\n",
    "test_movie_idx = test_movie_idx.astype(np.int)\n",
    "onehot_movie_label = onehot_movie_label.astype(np.int)"
   ],
   "metadata": {
    "collapsed": false,
    "pycharm": {
     "name": "#%%\n"
    }
   }
  },
  {
   "cell_type": "code",
   "execution_count": 19,
   "outputs": [],
   "source": [
    "new_IMDB = dict()\n",
    "new_IMDB['actor_feature'] = actor_feature\n",
    "new_IMDB['movie_feature'] = movie_feature\n",
    "new_IMDB['director_feature'] = director_feature\n",
    "new_IMDB['MA'] = M_A\n",
    "new_IMDB['MD'] = M_D\n",
    "new_IMDB['MDM'] = MDM\n",
    "new_IMDB['MAM'] = MAM\n",
    "new_IMDB['AMA'] = AMA\n",
    "new_IMDB['DMD'] = DMD\n",
    "new_IMDB['movie_label'] = onehot_movie_label\n",
    "new_IMDB['train_movie_idx'] = train_movie_idx\n",
    "new_IMDB['val_movie_idx'] = valid_movie_idx\n",
    "new_IMDB['test_movie_idx'] = test_movie_idx"
   ],
   "metadata": {
    "collapsed": false,
    "pycharm": {
     "name": "#%%\n"
    }
   }
  },
  {
   "cell_type": "code",
   "execution_count": 21,
   "outputs": [],
   "source": [
    "sio.savemat('new_imdb.mat', new_IMDB)"
   ],
   "metadata": {
    "collapsed": false,
    "pycharm": {
     "name": "#%%\n"
    }
   }
  }
 ],
 "metadata": {
  "kernelspec": {
   "display_name": "Python 3",
   "language": "python",
   "name": "python3"
  },
  "language_info": {
   "codemirror_mode": {
    "name": "ipython",
    "version": 2
   },
   "file_extension": ".py",
   "mimetype": "text/x-python",
   "name": "python",
   "nbconvert_exporter": "python",
   "pygments_lexer": "ipython2",
   "version": "2.7.6"
  }
 },
 "nbformat": 4,
 "nbformat_minor": 0
}